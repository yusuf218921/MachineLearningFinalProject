{
 "cells": [
  {
   "cell_type": "code",
   "execution_count": 1,
   "id": "0d238c44-b0f1-448d-9cd8-6deca5967134",
   "metadata": {},
   "outputs": [],
   "source": [
    "import pandas as pd\n",
    "from sklearn.model_selection import train_test_split, GridSearchCV\n",
    "from sklearn.preprocessing import MinMaxScaler\n",
    "from sklearn.neighbors import KNeighborsClassifier\n",
    "from sklearn.metrics import confusion_matrix, classification_report, roc_auc_score, roc_curve\n",
    "import matplotlib.pyplot as plt\n",
    "from sklearn.neural_network import MLPClassifier\n",
    "import numpy as np"
   ]
  },
  {
   "cell_type": "code",
   "execution_count": 2,
   "id": "888dc792-b2ec-4385-b69b-de58e50bab33",
   "metadata": {},
   "outputs": [
    {
     "data": {
      "text/html": [
       "<div>\n",
       "<style scoped>\n",
       "    .dataframe tbody tr th:only-of-type {\n",
       "        vertical-align: middle;\n",
       "    }\n",
       "\n",
       "    .dataframe tbody tr th {\n",
       "        vertical-align: top;\n",
       "    }\n",
       "\n",
       "    .dataframe thead th {\n",
       "        text-align: right;\n",
       "    }\n",
       "</style>\n",
       "<table border=\"1\" class=\"dataframe\">\n",
       "  <thead>\n",
       "    <tr style=\"text-align: right;\">\n",
       "      <th></th>\n",
       "      <th>Pregnant Number</th>\n",
       "      <th>Plasma Glucose</th>\n",
       "      <th>Diolastic Blood Pressure(mm Hg)</th>\n",
       "      <th>Triceps Skinfold Thickness(mm)</th>\n",
       "      <th>2-Hours Serum Insulin(mu U/ml)</th>\n",
       "      <th>Body Mass Index</th>\n",
       "      <th>Diabetes Pedigree Function</th>\n",
       "      <th>Age</th>\n",
       "      <th>Diabet</th>\n",
       "    </tr>\n",
       "  </thead>\n",
       "  <tbody>\n",
       "    <tr>\n",
       "      <th>0</th>\n",
       "      <td>6</td>\n",
       "      <td>148</td>\n",
       "      <td>72</td>\n",
       "      <td>35</td>\n",
       "      <td>0</td>\n",
       "      <td>33.6</td>\n",
       "      <td>0.627</td>\n",
       "      <td>50</td>\n",
       "      <td>1</td>\n",
       "    </tr>\n",
       "    <tr>\n",
       "      <th>1</th>\n",
       "      <td>1</td>\n",
       "      <td>85</td>\n",
       "      <td>66</td>\n",
       "      <td>29</td>\n",
       "      <td>0</td>\n",
       "      <td>26.6</td>\n",
       "      <td>0.351</td>\n",
       "      <td>31</td>\n",
       "      <td>0</td>\n",
       "    </tr>\n",
       "    <tr>\n",
       "      <th>2</th>\n",
       "      <td>8</td>\n",
       "      <td>183</td>\n",
       "      <td>64</td>\n",
       "      <td>0</td>\n",
       "      <td>0</td>\n",
       "      <td>23.3</td>\n",
       "      <td>0.672</td>\n",
       "      <td>32</td>\n",
       "      <td>1</td>\n",
       "    </tr>\n",
       "    <tr>\n",
       "      <th>3</th>\n",
       "      <td>1</td>\n",
       "      <td>89</td>\n",
       "      <td>66</td>\n",
       "      <td>23</td>\n",
       "      <td>94</td>\n",
       "      <td>28.1</td>\n",
       "      <td>0.167</td>\n",
       "      <td>21</td>\n",
       "      <td>0</td>\n",
       "    </tr>\n",
       "    <tr>\n",
       "      <th>4</th>\n",
       "      <td>0</td>\n",
       "      <td>137</td>\n",
       "      <td>40</td>\n",
       "      <td>35</td>\n",
       "      <td>168</td>\n",
       "      <td>43.1</td>\n",
       "      <td>2.288</td>\n",
       "      <td>33</td>\n",
       "      <td>1</td>\n",
       "    </tr>\n",
       "  </tbody>\n",
       "</table>\n",
       "</div>"
      ],
      "text/plain": [
       "   Pregnant Number  Plasma Glucose  Diolastic Blood Pressure(mm Hg)  \\\n",
       "0                6             148                               72   \n",
       "1                1              85                               66   \n",
       "2                8             183                               64   \n",
       "3                1              89                               66   \n",
       "4                0             137                               40   \n",
       "\n",
       "   Triceps Skinfold Thickness(mm)  2-Hours Serum Insulin(mu U/ml)  \\\n",
       "0                              35                               0   \n",
       "1                              29                               0   \n",
       "2                               0                               0   \n",
       "3                              23                              94   \n",
       "4                              35                             168   \n",
       "\n",
       "   Body Mass Index  Diabetes Pedigree Function  Age  Diabet  \n",
       "0             33.6                       0.627   50       1  \n",
       "1             26.6                       0.351   31       0  \n",
       "2             23.3                       0.672   32       1  \n",
       "3             28.1                       0.167   21       0  \n",
       "4             43.1                       2.288   33       1  "
      ]
     },
     "execution_count": 2,
     "metadata": {},
     "output_type": "execute_result"
    }
   ],
   "source": [
    "df = pd.read_csv('veri-seti.csv')\n",
    "\n",
    "df.head()"
   ]
  },
  {
   "cell_type": "code",
   "execution_count": 3,
   "id": "9bef15cc-117b-4340-9fee-6f74a1a9c8ee",
   "metadata": {},
   "outputs": [],
   "source": [
    "X = df.drop(columns=['Diabet'])\n",
    "y = df['Diabet']"
   ]
  },
  {
   "cell_type": "code",
   "execution_count": 4,
   "id": "20c18a1b-179d-4aa3-b4e0-57d0eeebbc53",
   "metadata": {},
   "outputs": [],
   "source": [
    "X_train, X_test, y_train, y_test = train_test_split(X, y, test_size=0.3, random_state=49)"
   ]
  },
  {
   "cell_type": "code",
   "execution_count": 5,
   "id": "0b80509b-3a5e-45b5-ada0-610ec0e7c273",
   "metadata": {},
   "outputs": [],
   "source": [
    "scaler = MinMaxScaler()\n",
    "X_train_scaled = scaler.fit_transform(X_train)\n",
    "X_test_scaled = scaler.transform(X_test)"
   ]
  },
  {
   "cell_type": "code",
   "execution_count": 6,
   "id": "35ce81d5-91f1-4e75-989e-b520e18fe25f",
   "metadata": {},
   "outputs": [],
   "source": [
    "mlp_param_grid = {\n",
    "    'hidden_layer_sizes': [(50,50), (100,)],\n",
    "    'activation': ['relu', 'tanh'],\n",
    "    'solver': ['adam', 'sgd'],\n",
    "    'alpha': [0.0001, 0.001],\n",
    "    'learning_rate': ['constant', 'adaptive'],\n",
    "    'max_iter': [800, 900]\n",
    "}"
   ]
  },
  {
   "cell_type": "markdown",
   "id": "d0c5bea4-3211-40ed-bc09-f1611987c0ee",
   "metadata": {},
   "source": [
    "MLP"
   ]
  },
  {
   "cell_type": "code",
   "execution_count": null,
   "id": "9e14e1bc-f3f1-4c6a-9324-0f93661111f9",
   "metadata": {},
   "outputs": [],
   "source": [
    "mlp = MLPClassifier(random_state=24)\n",
    "mlp_grid_search = GridSearchCV(estimator=mlp, param_grid=mlp_param_grid, scoring='accuracy', cv=5, n_jobs=-1)\n",
    "mlp_grid_search.fit(X_train_scaled, y_train)"
   ]
  },
  {
   "cell_type": "code",
   "execution_count": null,
   "id": "c3cfc3ba-be4c-40ce-850b-e77c00c62fff",
   "metadata": {},
   "outputs": [],
   "source": [
    "best_mlp = mlp_grid_search.best_estimator_\n",
    "\n",
    "mlp_train_pred = best_mlp.predict(X_train_scaled)\n",
    "mlp_test_pred = best_mlp.predict(X_test_scaled)"
   ]
  },
  {
   "cell_type": "code",
   "execution_count": null,
   "id": "eac1aa05-8b1d-43cd-9db8-e1d350378fb6",
   "metadata": {},
   "outputs": [],
   "source": [
    "mlp_train_cm = confusion_matrix(y_train, mlp_train_pred)\n",
    "mlp_test_cm = confusion_matrix(y_test, mlp_test_pred)"
   ]
  },
  {
   "cell_type": "code",
   "execution_count": null,
   "id": "0e9f57fe-af4f-4ec2-99fe-9c42485293e2",
   "metadata": {},
   "outputs": [],
   "source": [
    "mlp_train_cr = classification_report(y_train, mlp_train_pred, output_dict=True)\n",
    "mlp_test_cr = classification_report(y_test, mlp_test_pred, output_dict=True)"
   ]
  },
  {
   "cell_type": "code",
   "execution_count": null,
   "id": "db946585-d124-42c0-9a90-dc0ae78aa4d7",
   "metadata": {},
   "outputs": [],
   "source": [
    "mlp_train_roc_auc = roc_auc_score(y_train, best_mlp.predict_proba(X_train_scaled)[:,1])\n",
    "mlp_test_roc_auc = roc_auc_score(y_test, best_mlp.predict_proba(X_test_scaled)[:,1])"
   ]
  },
  {
   "cell_type": "code",
   "execution_count": null,
   "id": "79a39f29-b392-41a8-a8b8-c0c4225023ad",
   "metadata": {},
   "outputs": [],
   "source": [
    "mlp_results = {\n",
    "    \"test_cm\": mlp_test_cm,\n",
    "    \"test_cr\": mlp_test_cr,\n",
    "    \"test_roc_auc\": mlp_test_roc_auc\n",
    "}\n",
    "\n",
    "mlp_results"
   ]
  },
  {
   "cell_type": "code",
   "execution_count": null,
   "id": "b6317b09-32c5-4a5f-bee2-331cfefd3e69",
   "metadata": {},
   "outputs": [],
   "source": [
    "from sklearn.metrics import roc_curve\n",
    "\n",
    "mlp_train_fpr, mlp_train_tpr, _ = roc_curve(y_train, best_mlp.predict_proba(X_train_scaled)[:, 1])\n",
    "mlp_test_fpr, mlp_test_tpr, _ = roc_curve(y_test, best_mlp.predict_proba(X_test_scaled)[:, 1])"
   ]
  },
  {
   "cell_type": "code",
   "execution_count": null,
   "id": "09f44801-769f-4f91-8dd0-c96525b92961",
   "metadata": {},
   "outputs": [],
   "source": [
    "import matplotlib.pyplot as plt\n",
    "\n",
    "plt.figure(figsize=(10, 6))\n",
    "plt.plot(mlp_train_fpr, mlp_train_tpr, label=f'Train ROC Curve (AUC = {mlp_train_roc_auc:.2f})')\n",
    "plt.plot(mlp_test_fpr, mlp_test_tpr, label=f'Test ROC Curve (AUC = {mlp_test_roc_auc:.2f})')\n",
    "plt.plot([0, 1], [0, 1], 'k--')  # Referans için köşegen çizgi\n",
    "plt.xlabel('False Positive Rate')\n",
    "plt.ylabel('True Positive Rate')\n",
    "plt.title('MLP Classifier ROC Curve')\n",
    "plt.legend(loc='best')\n",
    "plt.grid(True)\n",
    "plt.show()"
   ]
  },
  {
   "cell_type": "markdown",
   "id": "97e841c2-54ee-4a1f-b058-a241deafd39a",
   "metadata": {},
   "source": [
    "SVM"
   ]
  },
  {
   "cell_type": "code",
   "execution_count": null,
   "id": "32cd993a-f318-49a7-926c-218eb962c4ad",
   "metadata": {},
   "outputs": [],
   "source": [
    "svm_param_grid = {\n",
    "    'C': [0.1, 1, 10, 100],\n",
    "    'gamma': [1, 0.1, 0.01, 0.001],\n",
    "    'kernel': ['linear', 'rbf', 'poly']\n",
    "}"
   ]
  },
  {
   "cell_type": "code",
   "execution_count": null,
   "id": "8bde0f82-09d0-48c6-be2c-c774e971d831",
   "metadata": {},
   "outputs": [],
   "source": [
    "from sklearn.svm import SVC\n",
    "from sklearn.model_selection import GridSearchCV\n",
    "\n",
    "svm = SVC(probability=True, random_state=33)\n",
    "svm_grid_search = GridSearchCV(estimator=svm, param_grid=svm_param_grid, scoring='accuracy', cv=5, n_jobs=-1)\n",
    "svm_grid_search.fit(X_train_scaled, y_train)\n"
   ]
  },
  {
   "cell_type": "code",
   "execution_count": null,
   "id": "32444c64-dbe9-44a7-a719-bca2b6c9032b",
   "metadata": {},
   "outputs": [],
   "source": [
    "best_svm = svm_grid_search.best_estimator_\n",
    "\n",
    "# Tahminler\n",
    "svm_train_pred = best_svm.predict(X_train_scaled)\n",
    "svm_test_pred = best_svm.predict(X_test_scaled)\n"
   ]
  },
  {
   "cell_type": "code",
   "execution_count": null,
   "id": "b50370bd-d0bc-4f62-adfc-391c9a3464ad",
   "metadata": {},
   "outputs": [],
   "source": [
    "from sklearn.metrics import confusion_matrix, classification_report, roc_auc_score, roc_curve\n",
    "\n",
    "svm_train_cm = confusion_matrix(y_train, svm_train_pred)\n",
    "svm_test_cm = confusion_matrix(y_test, svm_test_pred)\n",
    "\n",
    "svm_train_cr = classification_report(y_train, svm_train_pred, output_dict=True)\n",
    "svm_test_cr = classification_report(y_test, svm_test_pred, output_dict=True)\n",
    "\n",
    "svm_train_roc_auc = roc_auc_score(y_train, best_svm.predict_proba(X_train_scaled)[:,1])\n",
    "svm_test_roc_auc = roc_auc_score(y_test, best_svm.predict_proba(X_test_scaled)[:,1])\n",
    "\n",
    "svm_train_fpr, svm_train_tpr, _ = roc_curve(y_train, best_svm.predict_proba(X_train_scaled)[:, 1])\n",
    "svm_test_fpr, svm_test_tpr, _ = roc_curve(y_test, best_svm.predict_proba(X_test_scaled)[:, 1])\n"
   ]
  },
  {
   "cell_type": "code",
   "execution_count": null,
   "id": "ca921277-9272-4d1b-9c40-76841688485e",
   "metadata": {},
   "outputs": [],
   "source": [
    "svm_results = {\n",
    "    \"test_cm\": svm_test_cm,\n",
    "    \"test_cr\": svm_test_cr,\n",
    "    \"test_roc_auc\": svm_test_roc_auc,\n",
    "}\n",
    "\n",
    "svm_results"
   ]
  },
  {
   "cell_type": "code",
   "execution_count": null,
   "id": "7d70185c-acb8-445f-ac4f-20aabd537599",
   "metadata": {},
   "outputs": [],
   "source": [
    "import matplotlib.pyplot as plt\n",
    "\n",
    "plt.figure(figsize=(10, 6))\n",
    "plt.plot(svm_train_fpr, svm_train_tpr, label=f'Train ROC Curve (AUC = {svm_train_roc_auc:.2f})')\n",
    "plt.plot(svm_test_fpr, svm_test_tpr, label=f'Test ROC Curve (AUC = {svm_test_roc_auc:.2f})')\n",
    "plt.plot([0, 1], [0, 1], 'k--')  # Referans için köşegen çizgi\n",
    "plt.xlabel('False Positive Rate')\n",
    "plt.ylabel('True Positive Rate')\n",
    "plt.title('SVM Classifier ROC Curve')\n",
    "plt.legend(loc='best')\n",
    "plt.grid(True)\n",
    "plt.show()\n"
   ]
  },
  {
   "cell_type": "code",
   "execution_count": null,
   "id": "248b10b8-39e2-49c1-b27e-2bfa3eec9e9c",
   "metadata": {},
   "outputs": [],
   "source": []
  },
  {
   "cell_type": "code",
   "execution_count": null,
   "id": "90b184e1-26e4-4bfe-82c5-060f121c6bb5",
   "metadata": {},
   "outputs": [],
   "source": []
  },
  {
   "cell_type": "code",
   "execution_count": null,
   "id": "6448c94c-e081-4fe9-8fd1-d7995c8980c2",
   "metadata": {},
   "outputs": [],
   "source": []
  }
 ],
 "metadata": {
  "kernelspec": {
   "display_name": "Python 3 (ipykernel)",
   "language": "python",
   "name": "python3"
  },
  "language_info": {
   "codemirror_mode": {
    "name": "ipython",
    "version": 3
   },
   "file_extension": ".py",
   "mimetype": "text/x-python",
   "name": "python",
   "nbconvert_exporter": "python",
   "pygments_lexer": "ipython3",
   "version": "3.11.7"
  }
 },
 "nbformat": 4,
 "nbformat_minor": 5
}
